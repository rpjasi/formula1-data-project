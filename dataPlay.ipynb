{
 "metadata": {
  "language_info": {
   "codemirror_mode": {
    "name": "ipython",
    "version": 3
   },
   "file_extension": ".py",
   "mimetype": "text/x-python",
   "name": "python",
   "nbconvert_exporter": "python",
   "pygments_lexer": "ipython3",
   "version": "3.7.9-final"
  },
  "orig_nbformat": 2,
  "kernelspec": {
   "name": "python3",
   "display_name": "Python 3.7.9 64-bit ('.venv')",
   "metadata": {
    "interpreter": {
     "hash": "feb56ea0882f598c44b03e022906b36a083e729c182a3fd833a725b36736be1c"
    }
   }
  }
 },
 "nbformat": 4,
 "nbformat_minor": 2,
 "cells": [
  {
   "cell_type": "code",
   "execution_count": 3,
   "metadata": {},
   "outputs": [],
   "source": [
    "import pandas as pd"
   ]
  },
  {
   "cell_type": "code",
   "execution_count": 4,
   "metadata": {},
   "outputs": [
    {
     "output_type": "execute_result",
     "data": {
      "text/plain": [
       "     Unnamed: 0  Year         Driver   1   2   3   4    5    6    7  ...   13  \\\n",
       "0             1  2019    L. HAMILTON  18  25  25  18   26   25   25  ...   18   \n",
       "1             2  2019      V. BOTTAS  26  18  18  25   18   15   13  ...   15   \n",
       "2             3  2019  M. VERSTAPPEN  15  12  12  12   15   12   10  ...    -   \n",
       "3             4  2019     C. LECLERC  10  16  10  11   10    -   15  ...   25   \n",
       "4             5  2019      S. VETTEL  12  10  15  15   12   18   18  ...   13   \n",
       "..          ...   ...            ...  ..  ..  ..  ..  ...  ...  ...  ...  ...   \n",
       "652          20  1991     I. CAPELLI   -   -   -   -    -    -    -  ...    -   \n",
       "653          21  1991     E. BERNARD   -   -   -   -    -    1    -  ...    -   \n",
       "654          22  1991      A. SUZUKI   1   -   -   -    -    -    -  ...    -   \n",
       "655          23  1991      J. BAILEY   -   -   1   -  NaN  NaN  NaN  ...  NaN   \n",
       "656          24  1991  G. MORBIDELLI   -   -   -   -    -    -    -  ...    -   \n",
       "\n",
       "      14   15   16   17   18   19   20   21 Points  \n",
       "0     16   12   26   16   25   18    6   26  413.0  \n",
       "1     18   10   18   25   15   25    -   12  326.0  \n",
       "2      4   15   12    -    8   15   25   18  278.0  \n",
       "3     25   18   15    8   13   13    -   15  264.0  \n",
       "4      -   25    -   18   18    -    -   10  240.0  \n",
       "..   ...  ...  ...  ...  ...  ...  ...  ...    ...  \n",
       "652    -  NaN  NaN  NaN  NaN  NaN  NaN  NaN    1.0  \n",
       "653    -    -    -  NaN  NaN  NaN  NaN  NaN    1.0  \n",
       "654    -    -    -  NaN  NaN  NaN  NaN  NaN    1.0  \n",
       "655  NaN  NaN  NaN  NaN  NaN  NaN  NaN  NaN    1.0  \n",
       "656    -    -  0.5  NaN  NaN  NaN  NaN  NaN    0.5  \n",
       "\n",
       "[657 rows x 25 columns]"
      ],
      "text/html": "<div>\n<style scoped>\n    .dataframe tbody tr th:only-of-type {\n        vertical-align: middle;\n    }\n\n    .dataframe tbody tr th {\n        vertical-align: top;\n    }\n\n    .dataframe thead th {\n        text-align: right;\n    }\n</style>\n<table border=\"1\" class=\"dataframe\">\n  <thead>\n    <tr style=\"text-align: right;\">\n      <th></th>\n      <th>Unnamed: 0</th>\n      <th>Year</th>\n      <th>Driver</th>\n      <th>1</th>\n      <th>2</th>\n      <th>3</th>\n      <th>4</th>\n      <th>5</th>\n      <th>6</th>\n      <th>7</th>\n      <th>...</th>\n      <th>13</th>\n      <th>14</th>\n      <th>15</th>\n      <th>16</th>\n      <th>17</th>\n      <th>18</th>\n      <th>19</th>\n      <th>20</th>\n      <th>21</th>\n      <th>Points</th>\n    </tr>\n  </thead>\n  <tbody>\n    <tr>\n      <th>0</th>\n      <td>1</td>\n      <td>2019</td>\n      <td>L. HAMILTON</td>\n      <td>18</td>\n      <td>25</td>\n      <td>25</td>\n      <td>18</td>\n      <td>26</td>\n      <td>25</td>\n      <td>25</td>\n      <td>...</td>\n      <td>18</td>\n      <td>16</td>\n      <td>12</td>\n      <td>26</td>\n      <td>16</td>\n      <td>25</td>\n      <td>18</td>\n      <td>6</td>\n      <td>26</td>\n      <td>413.0</td>\n    </tr>\n    <tr>\n      <th>1</th>\n      <td>2</td>\n      <td>2019</td>\n      <td>V. BOTTAS</td>\n      <td>26</td>\n      <td>18</td>\n      <td>18</td>\n      <td>25</td>\n      <td>18</td>\n      <td>15</td>\n      <td>13</td>\n      <td>...</td>\n      <td>15</td>\n      <td>18</td>\n      <td>10</td>\n      <td>18</td>\n      <td>25</td>\n      <td>15</td>\n      <td>25</td>\n      <td>-</td>\n      <td>12</td>\n      <td>326.0</td>\n    </tr>\n    <tr>\n      <th>2</th>\n      <td>3</td>\n      <td>2019</td>\n      <td>M. VERSTAPPEN</td>\n      <td>15</td>\n      <td>12</td>\n      <td>12</td>\n      <td>12</td>\n      <td>15</td>\n      <td>12</td>\n      <td>10</td>\n      <td>...</td>\n      <td>-</td>\n      <td>4</td>\n      <td>15</td>\n      <td>12</td>\n      <td>-</td>\n      <td>8</td>\n      <td>15</td>\n      <td>25</td>\n      <td>18</td>\n      <td>278.0</td>\n    </tr>\n    <tr>\n      <th>3</th>\n      <td>4</td>\n      <td>2019</td>\n      <td>C. LECLERC</td>\n      <td>10</td>\n      <td>16</td>\n      <td>10</td>\n      <td>11</td>\n      <td>10</td>\n      <td>-</td>\n      <td>15</td>\n      <td>...</td>\n      <td>25</td>\n      <td>25</td>\n      <td>18</td>\n      <td>15</td>\n      <td>8</td>\n      <td>13</td>\n      <td>13</td>\n      <td>-</td>\n      <td>15</td>\n      <td>264.0</td>\n    </tr>\n    <tr>\n      <th>4</th>\n      <td>5</td>\n      <td>2019</td>\n      <td>S. VETTEL</td>\n      <td>12</td>\n      <td>10</td>\n      <td>15</td>\n      <td>15</td>\n      <td>12</td>\n      <td>18</td>\n      <td>18</td>\n      <td>...</td>\n      <td>13</td>\n      <td>-</td>\n      <td>25</td>\n      <td>-</td>\n      <td>18</td>\n      <td>18</td>\n      <td>-</td>\n      <td>-</td>\n      <td>10</td>\n      <td>240.0</td>\n    </tr>\n    <tr>\n      <th>...</th>\n      <td>...</td>\n      <td>...</td>\n      <td>...</td>\n      <td>...</td>\n      <td>...</td>\n      <td>...</td>\n      <td>...</td>\n      <td>...</td>\n      <td>...</td>\n      <td>...</td>\n      <td>...</td>\n      <td>...</td>\n      <td>...</td>\n      <td>...</td>\n      <td>...</td>\n      <td>...</td>\n      <td>...</td>\n      <td>...</td>\n      <td>...</td>\n      <td>...</td>\n      <td>...</td>\n    </tr>\n    <tr>\n      <th>652</th>\n      <td>20</td>\n      <td>1991</td>\n      <td>I. CAPELLI</td>\n      <td>-</td>\n      <td>-</td>\n      <td>-</td>\n      <td>-</td>\n      <td>-</td>\n      <td>-</td>\n      <td>-</td>\n      <td>...</td>\n      <td>-</td>\n      <td>-</td>\n      <td>NaN</td>\n      <td>NaN</td>\n      <td>NaN</td>\n      <td>NaN</td>\n      <td>NaN</td>\n      <td>NaN</td>\n      <td>NaN</td>\n      <td>1.0</td>\n    </tr>\n    <tr>\n      <th>653</th>\n      <td>21</td>\n      <td>1991</td>\n      <td>E. BERNARD</td>\n      <td>-</td>\n      <td>-</td>\n      <td>-</td>\n      <td>-</td>\n      <td>-</td>\n      <td>1</td>\n      <td>-</td>\n      <td>...</td>\n      <td>-</td>\n      <td>-</td>\n      <td>-</td>\n      <td>-</td>\n      <td>NaN</td>\n      <td>NaN</td>\n      <td>NaN</td>\n      <td>NaN</td>\n      <td>NaN</td>\n      <td>1.0</td>\n    </tr>\n    <tr>\n      <th>654</th>\n      <td>22</td>\n      <td>1991</td>\n      <td>A. SUZUKI</td>\n      <td>1</td>\n      <td>-</td>\n      <td>-</td>\n      <td>-</td>\n      <td>-</td>\n      <td>-</td>\n      <td>-</td>\n      <td>...</td>\n      <td>-</td>\n      <td>-</td>\n      <td>-</td>\n      <td>-</td>\n      <td>NaN</td>\n      <td>NaN</td>\n      <td>NaN</td>\n      <td>NaN</td>\n      <td>NaN</td>\n      <td>1.0</td>\n    </tr>\n    <tr>\n      <th>655</th>\n      <td>23</td>\n      <td>1991</td>\n      <td>J. BAILEY</td>\n      <td>-</td>\n      <td>-</td>\n      <td>1</td>\n      <td>-</td>\n      <td>NaN</td>\n      <td>NaN</td>\n      <td>NaN</td>\n      <td>...</td>\n      <td>NaN</td>\n      <td>NaN</td>\n      <td>NaN</td>\n      <td>NaN</td>\n      <td>NaN</td>\n      <td>NaN</td>\n      <td>NaN</td>\n      <td>NaN</td>\n      <td>NaN</td>\n      <td>1.0</td>\n    </tr>\n    <tr>\n      <th>656</th>\n      <td>24</td>\n      <td>1991</td>\n      <td>G. MORBIDELLI</td>\n      <td>-</td>\n      <td>-</td>\n      <td>-</td>\n      <td>-</td>\n      <td>-</td>\n      <td>-</td>\n      <td>-</td>\n      <td>...</td>\n      <td>-</td>\n      <td>-</td>\n      <td>-</td>\n      <td>0.5</td>\n      <td>NaN</td>\n      <td>NaN</td>\n      <td>NaN</td>\n      <td>NaN</td>\n      <td>NaN</td>\n      <td>0.5</td>\n    </tr>\n  </tbody>\n</table>\n<p>657 rows × 25 columns</p>\n</div>"
     },
     "metadata": {},
     "execution_count": 4
    }
   ],
   "source": [
    "df = pd.read_csv('driverChamp.csv')\n",
    "df"
   ]
  },
  {
   "cell_type": "code",
   "execution_count": 5,
   "metadata": {},
   "outputs": [
    {
     "output_type": "execute_result",
     "data": {
      "text/plain": [
       "Index(['Unnamed: 0', 'Year', 'Driver', '1', '2', '3', '4', '5', '6', '7', '8',\n",
       "       '9', '10', '11', '12', '13', '14', '15', '16', '17', '18', '19', '20',\n",
       "       '21', 'Points'],\n",
       "      dtype='object')"
      ]
     },
     "metadata": {},
     "execution_count": 5
    }
   ],
   "source": [
    "df.columns"
   ]
  },
  {
   "cell_type": "code",
   "execution_count": 6,
   "metadata": {},
   "outputs": [],
   "source": [
    "df = df.rename(columns={'Unnamed: 0': 'Position'})"
   ]
  },
  {
   "cell_type": "code",
   "execution_count": 7,
   "metadata": {},
   "outputs": [],
   "source": [
    "df = df.replace(to_replace='-', value='0')"
   ]
  },
  {
   "cell_type": "code",
   "execution_count": 8,
   "metadata": {},
   "outputs": [],
   "source": [
    "dfn = df.convert_dtypes()\n",
    "        "
   ]
  },
  {
   "cell_type": "code",
   "execution_count": 9,
   "metadata": {},
   "outputs": [
    {
     "output_type": "execute_result",
     "data": {
      "text/plain": [
       "     Position  Year         Driver   1   2   3   4     5     6     7  ...  \\\n",
       "0           1  2019    L. HAMILTON  18  25  25  18    26    25    25  ...   \n",
       "1           2  2019      V. BOTTAS  26  18  18  25    18    15    13  ...   \n",
       "2           3  2019  M. VERSTAPPEN  15  12  12  12    15    12    10  ...   \n",
       "3           4  2019     C. LECLERC  10  16  10  11    10     0    15  ...   \n",
       "4           5  2019      S. VETTEL  12  10  15  15    12    18    18  ...   \n",
       "..        ...   ...            ...  ..  ..  ..  ..   ...   ...   ...  ...   \n",
       "652        20  1991     I. CAPELLI   0   0   0   0     0     0     0  ...   \n",
       "653        21  1991     E. BERNARD   0   0   0   0     0     1     0  ...   \n",
       "654        22  1991      A. SUZUKI   1   0   0   0     0     0     0  ...   \n",
       "655        23  1991      J. BAILEY   0   0   1   0  <NA>  <NA>  <NA>  ...   \n",
       "656        24  1991  G. MORBIDELLI   0   0   0   0     0     0     0  ...   \n",
       "\n",
       "       13    14    15    16    17    18    19    20    21 Points  \n",
       "0      18    16    12    26    16    25    18     6    26  413.0  \n",
       "1      15    18    10    18    25    15    25     0    12  326.0  \n",
       "2       0     4    15    12     0     8    15    25    18  278.0  \n",
       "3      25    25    18    15     8    13    13     0    15  264.0  \n",
       "4      13     0    25     0    18    18     0     0    10  240.0  \n",
       "..    ...   ...   ...   ...   ...   ...   ...   ...   ...    ...  \n",
       "652     0     0  <NA>  <NA>  <NA>  <NA>  <NA>  <NA>  <NA>    1.0  \n",
       "653     0     0     0     0  <NA>  <NA>  <NA>  <NA>  <NA>    1.0  \n",
       "654     0     0     0     0  <NA>  <NA>  <NA>  <NA>  <NA>    1.0  \n",
       "655  <NA>  <NA>  <NA>  <NA>  <NA>  <NA>  <NA>  <NA>  <NA>    1.0  \n",
       "656     0     0     0   0.5  <NA>  <NA>  <NA>  <NA>  <NA>    0.5  \n",
       "\n",
       "[657 rows x 25 columns]"
      ],
      "text/html": "<div>\n<style scoped>\n    .dataframe tbody tr th:only-of-type {\n        vertical-align: middle;\n    }\n\n    .dataframe tbody tr th {\n        vertical-align: top;\n    }\n\n    .dataframe thead th {\n        text-align: right;\n    }\n</style>\n<table border=\"1\" class=\"dataframe\">\n  <thead>\n    <tr style=\"text-align: right;\">\n      <th></th>\n      <th>Position</th>\n      <th>Year</th>\n      <th>Driver</th>\n      <th>1</th>\n      <th>2</th>\n      <th>3</th>\n      <th>4</th>\n      <th>5</th>\n      <th>6</th>\n      <th>7</th>\n      <th>...</th>\n      <th>13</th>\n      <th>14</th>\n      <th>15</th>\n      <th>16</th>\n      <th>17</th>\n      <th>18</th>\n      <th>19</th>\n      <th>20</th>\n      <th>21</th>\n      <th>Points</th>\n    </tr>\n  </thead>\n  <tbody>\n    <tr>\n      <th>0</th>\n      <td>1</td>\n      <td>2019</td>\n      <td>L. HAMILTON</td>\n      <td>18</td>\n      <td>25</td>\n      <td>25</td>\n      <td>18</td>\n      <td>26</td>\n      <td>25</td>\n      <td>25</td>\n      <td>...</td>\n      <td>18</td>\n      <td>16</td>\n      <td>12</td>\n      <td>26</td>\n      <td>16</td>\n      <td>25</td>\n      <td>18</td>\n      <td>6</td>\n      <td>26</td>\n      <td>413.0</td>\n    </tr>\n    <tr>\n      <th>1</th>\n      <td>2</td>\n      <td>2019</td>\n      <td>V. BOTTAS</td>\n      <td>26</td>\n      <td>18</td>\n      <td>18</td>\n      <td>25</td>\n      <td>18</td>\n      <td>15</td>\n      <td>13</td>\n      <td>...</td>\n      <td>15</td>\n      <td>18</td>\n      <td>10</td>\n      <td>18</td>\n      <td>25</td>\n      <td>15</td>\n      <td>25</td>\n      <td>0</td>\n      <td>12</td>\n      <td>326.0</td>\n    </tr>\n    <tr>\n      <th>2</th>\n      <td>3</td>\n      <td>2019</td>\n      <td>M. VERSTAPPEN</td>\n      <td>15</td>\n      <td>12</td>\n      <td>12</td>\n      <td>12</td>\n      <td>15</td>\n      <td>12</td>\n      <td>10</td>\n      <td>...</td>\n      <td>0</td>\n      <td>4</td>\n      <td>15</td>\n      <td>12</td>\n      <td>0</td>\n      <td>8</td>\n      <td>15</td>\n      <td>25</td>\n      <td>18</td>\n      <td>278.0</td>\n    </tr>\n    <tr>\n      <th>3</th>\n      <td>4</td>\n      <td>2019</td>\n      <td>C. LECLERC</td>\n      <td>10</td>\n      <td>16</td>\n      <td>10</td>\n      <td>11</td>\n      <td>10</td>\n      <td>0</td>\n      <td>15</td>\n      <td>...</td>\n      <td>25</td>\n      <td>25</td>\n      <td>18</td>\n      <td>15</td>\n      <td>8</td>\n      <td>13</td>\n      <td>13</td>\n      <td>0</td>\n      <td>15</td>\n      <td>264.0</td>\n    </tr>\n    <tr>\n      <th>4</th>\n      <td>5</td>\n      <td>2019</td>\n      <td>S. VETTEL</td>\n      <td>12</td>\n      <td>10</td>\n      <td>15</td>\n      <td>15</td>\n      <td>12</td>\n      <td>18</td>\n      <td>18</td>\n      <td>...</td>\n      <td>13</td>\n      <td>0</td>\n      <td>25</td>\n      <td>0</td>\n      <td>18</td>\n      <td>18</td>\n      <td>0</td>\n      <td>0</td>\n      <td>10</td>\n      <td>240.0</td>\n    </tr>\n    <tr>\n      <th>...</th>\n      <td>...</td>\n      <td>...</td>\n      <td>...</td>\n      <td>...</td>\n      <td>...</td>\n      <td>...</td>\n      <td>...</td>\n      <td>...</td>\n      <td>...</td>\n      <td>...</td>\n      <td>...</td>\n      <td>...</td>\n      <td>...</td>\n      <td>...</td>\n      <td>...</td>\n      <td>...</td>\n      <td>...</td>\n      <td>...</td>\n      <td>...</td>\n      <td>...</td>\n      <td>...</td>\n    </tr>\n    <tr>\n      <th>652</th>\n      <td>20</td>\n      <td>1991</td>\n      <td>I. CAPELLI</td>\n      <td>0</td>\n      <td>0</td>\n      <td>0</td>\n      <td>0</td>\n      <td>0</td>\n      <td>0</td>\n      <td>0</td>\n      <td>...</td>\n      <td>0</td>\n      <td>0</td>\n      <td>&lt;NA&gt;</td>\n      <td>&lt;NA&gt;</td>\n      <td>&lt;NA&gt;</td>\n      <td>&lt;NA&gt;</td>\n      <td>&lt;NA&gt;</td>\n      <td>&lt;NA&gt;</td>\n      <td>&lt;NA&gt;</td>\n      <td>1.0</td>\n    </tr>\n    <tr>\n      <th>653</th>\n      <td>21</td>\n      <td>1991</td>\n      <td>E. BERNARD</td>\n      <td>0</td>\n      <td>0</td>\n      <td>0</td>\n      <td>0</td>\n      <td>0</td>\n      <td>1</td>\n      <td>0</td>\n      <td>...</td>\n      <td>0</td>\n      <td>0</td>\n      <td>0</td>\n      <td>0</td>\n      <td>&lt;NA&gt;</td>\n      <td>&lt;NA&gt;</td>\n      <td>&lt;NA&gt;</td>\n      <td>&lt;NA&gt;</td>\n      <td>&lt;NA&gt;</td>\n      <td>1.0</td>\n    </tr>\n    <tr>\n      <th>654</th>\n      <td>22</td>\n      <td>1991</td>\n      <td>A. SUZUKI</td>\n      <td>1</td>\n      <td>0</td>\n      <td>0</td>\n      <td>0</td>\n      <td>0</td>\n      <td>0</td>\n      <td>0</td>\n      <td>...</td>\n      <td>0</td>\n      <td>0</td>\n      <td>0</td>\n      <td>0</td>\n      <td>&lt;NA&gt;</td>\n      <td>&lt;NA&gt;</td>\n      <td>&lt;NA&gt;</td>\n      <td>&lt;NA&gt;</td>\n      <td>&lt;NA&gt;</td>\n      <td>1.0</td>\n    </tr>\n    <tr>\n      <th>655</th>\n      <td>23</td>\n      <td>1991</td>\n      <td>J. BAILEY</td>\n      <td>0</td>\n      <td>0</td>\n      <td>1</td>\n      <td>0</td>\n      <td>&lt;NA&gt;</td>\n      <td>&lt;NA&gt;</td>\n      <td>&lt;NA&gt;</td>\n      <td>...</td>\n      <td>&lt;NA&gt;</td>\n      <td>&lt;NA&gt;</td>\n      <td>&lt;NA&gt;</td>\n      <td>&lt;NA&gt;</td>\n      <td>&lt;NA&gt;</td>\n      <td>&lt;NA&gt;</td>\n      <td>&lt;NA&gt;</td>\n      <td>&lt;NA&gt;</td>\n      <td>&lt;NA&gt;</td>\n      <td>1.0</td>\n    </tr>\n    <tr>\n      <th>656</th>\n      <td>24</td>\n      <td>1991</td>\n      <td>G. MORBIDELLI</td>\n      <td>0</td>\n      <td>0</td>\n      <td>0</td>\n      <td>0</td>\n      <td>0</td>\n      <td>0</td>\n      <td>0</td>\n      <td>...</td>\n      <td>0</td>\n      <td>0</td>\n      <td>0</td>\n      <td>0.5</td>\n      <td>&lt;NA&gt;</td>\n      <td>&lt;NA&gt;</td>\n      <td>&lt;NA&gt;</td>\n      <td>&lt;NA&gt;</td>\n      <td>&lt;NA&gt;</td>\n      <td>0.5</td>\n    </tr>\n  </tbody>\n</table>\n<p>657 rows × 25 columns</p>\n</div>"
     },
     "metadata": {},
     "execution_count": 9
    }
   ],
   "source": [
    "dfn"
   ]
  },
  {
   "cell_type": "code",
   "execution_count": 45,
   "metadata": {},
   "outputs": [],
   "source": [
    "for i in dfn.columns[3:24]:\n",
    "    dfn[i] = pd.to_numeric(dfn[i], errors='coerce', downcast='unsigned')\n"
   ]
  },
  {
   "cell_type": "code",
   "execution_count": 61,
   "metadata": {},
   "outputs": [
    {
     "output_type": "execute_result",
     "data": {
      "text/plain": [
       "     Position  Year         Driver     1     2     3     4     5     6     7  \\\n",
       "0           1  2019    L. HAMILTON  18.0  25.0  25.0  18.0  26.0  25.0  25.0   \n",
       "1           2  2019      V. BOTTAS  26.0  18.0  18.0  25.0  18.0  15.0  13.0   \n",
       "2           3  2019  M. VERSTAPPEN  15.0  12.0  12.0  12.0  15.0  12.0  10.0   \n",
       "3           4  2019     C. LECLERC  10.0  16.0  10.0  11.0  10.0   0.0  15.0   \n",
       "4           5  2019      S. VETTEL  12.0  10.0  15.0  15.0  12.0  18.0  18.0   \n",
       "..        ...   ...            ...   ...   ...   ...   ...   ...   ...   ...   \n",
       "652        20  1991     I. CAPELLI   0.0   0.0   0.0   0.0   0.0   0.0   0.0   \n",
       "653        21  1991     E. BERNARD   0.0   0.0   0.0   0.0   0.0   1.0   0.0   \n",
       "654        22  1991      A. SUZUKI   1.0   0.0   0.0   0.0   0.0   0.0   0.0   \n",
       "655        23  1991      J. BAILEY   0.0   0.0   1.0   0.0   NaN   NaN   NaN   \n",
       "656        24  1991  G. MORBIDELLI   0.0   0.0   0.0   0.0   0.0   0.0   0.0   \n",
       "\n",
       "     ...    13    14    15    16    17    18    19    20    21  Points  \n",
       "0    ...  18.0  16.0  12.0  26.0  16.0  25.0  18.0   6.0  26.0   413.0  \n",
       "1    ...  15.0  18.0  10.0  18.0  25.0  15.0  25.0   0.0  12.0   326.0  \n",
       "2    ...   0.0   4.0  15.0  12.0   0.0   8.0  15.0  25.0  18.0   278.0  \n",
       "3    ...  25.0  25.0  18.0  15.0   8.0  13.0  13.0   0.0  15.0   264.0  \n",
       "4    ...  13.0   0.0  25.0   0.0  18.0  18.0   0.0   0.0  10.0   240.0  \n",
       "..   ...   ...   ...   ...   ...   ...   ...   ...   ...   ...     ...  \n",
       "652  ...   0.0   0.0   NaN   NaN   NaN   NaN   NaN   NaN   NaN     1.0  \n",
       "653  ...   0.0   0.0   0.0   0.0   NaN   NaN   NaN   NaN   NaN     1.0  \n",
       "654  ...   0.0   0.0   0.0   0.0   NaN   NaN   NaN   NaN   NaN     1.0  \n",
       "655  ...   NaN   NaN   NaN   NaN   NaN   NaN   NaN   NaN   NaN     1.0  \n",
       "656  ...   0.0   0.0   0.0   0.5   NaN   NaN   NaN   NaN   NaN     0.5  \n",
       "\n",
       "[657 rows x 25 columns]"
      ],
      "text/html": "<div>\n<style scoped>\n    .dataframe tbody tr th:only-of-type {\n        vertical-align: middle;\n    }\n\n    .dataframe tbody tr th {\n        vertical-align: top;\n    }\n\n    .dataframe thead th {\n        text-align: right;\n    }\n</style>\n<table border=\"1\" class=\"dataframe\">\n  <thead>\n    <tr style=\"text-align: right;\">\n      <th></th>\n      <th>Position</th>\n      <th>Year</th>\n      <th>Driver</th>\n      <th>1</th>\n      <th>2</th>\n      <th>3</th>\n      <th>4</th>\n      <th>5</th>\n      <th>6</th>\n      <th>7</th>\n      <th>...</th>\n      <th>13</th>\n      <th>14</th>\n      <th>15</th>\n      <th>16</th>\n      <th>17</th>\n      <th>18</th>\n      <th>19</th>\n      <th>20</th>\n      <th>21</th>\n      <th>Points</th>\n    </tr>\n  </thead>\n  <tbody>\n    <tr>\n      <th>0</th>\n      <td>1</td>\n      <td>2019</td>\n      <td>L. HAMILTON</td>\n      <td>18.0</td>\n      <td>25.0</td>\n      <td>25.0</td>\n      <td>18.0</td>\n      <td>26.0</td>\n      <td>25.0</td>\n      <td>25.0</td>\n      <td>...</td>\n      <td>18.0</td>\n      <td>16.0</td>\n      <td>12.0</td>\n      <td>26.0</td>\n      <td>16.0</td>\n      <td>25.0</td>\n      <td>18.0</td>\n      <td>6.0</td>\n      <td>26.0</td>\n      <td>413.0</td>\n    </tr>\n    <tr>\n      <th>1</th>\n      <td>2</td>\n      <td>2019</td>\n      <td>V. BOTTAS</td>\n      <td>26.0</td>\n      <td>18.0</td>\n      <td>18.0</td>\n      <td>25.0</td>\n      <td>18.0</td>\n      <td>15.0</td>\n      <td>13.0</td>\n      <td>...</td>\n      <td>15.0</td>\n      <td>18.0</td>\n      <td>10.0</td>\n      <td>18.0</td>\n      <td>25.0</td>\n      <td>15.0</td>\n      <td>25.0</td>\n      <td>0.0</td>\n      <td>12.0</td>\n      <td>326.0</td>\n    </tr>\n    <tr>\n      <th>2</th>\n      <td>3</td>\n      <td>2019</td>\n      <td>M. VERSTAPPEN</td>\n      <td>15.0</td>\n      <td>12.0</td>\n      <td>12.0</td>\n      <td>12.0</td>\n      <td>15.0</td>\n      <td>12.0</td>\n      <td>10.0</td>\n      <td>...</td>\n      <td>0.0</td>\n      <td>4.0</td>\n      <td>15.0</td>\n      <td>12.0</td>\n      <td>0.0</td>\n      <td>8.0</td>\n      <td>15.0</td>\n      <td>25.0</td>\n      <td>18.0</td>\n      <td>278.0</td>\n    </tr>\n    <tr>\n      <th>3</th>\n      <td>4</td>\n      <td>2019</td>\n      <td>C. LECLERC</td>\n      <td>10.0</td>\n      <td>16.0</td>\n      <td>10.0</td>\n      <td>11.0</td>\n      <td>10.0</td>\n      <td>0.0</td>\n      <td>15.0</td>\n      <td>...</td>\n      <td>25.0</td>\n      <td>25.0</td>\n      <td>18.0</td>\n      <td>15.0</td>\n      <td>8.0</td>\n      <td>13.0</td>\n      <td>13.0</td>\n      <td>0.0</td>\n      <td>15.0</td>\n      <td>264.0</td>\n    </tr>\n    <tr>\n      <th>4</th>\n      <td>5</td>\n      <td>2019</td>\n      <td>S. VETTEL</td>\n      <td>12.0</td>\n      <td>10.0</td>\n      <td>15.0</td>\n      <td>15.0</td>\n      <td>12.0</td>\n      <td>18.0</td>\n      <td>18.0</td>\n      <td>...</td>\n      <td>13.0</td>\n      <td>0.0</td>\n      <td>25.0</td>\n      <td>0.0</td>\n      <td>18.0</td>\n      <td>18.0</td>\n      <td>0.0</td>\n      <td>0.0</td>\n      <td>10.0</td>\n      <td>240.0</td>\n    </tr>\n    <tr>\n      <th>...</th>\n      <td>...</td>\n      <td>...</td>\n      <td>...</td>\n      <td>...</td>\n      <td>...</td>\n      <td>...</td>\n      <td>...</td>\n      <td>...</td>\n      <td>...</td>\n      <td>...</td>\n      <td>...</td>\n      <td>...</td>\n      <td>...</td>\n      <td>...</td>\n      <td>...</td>\n      <td>...</td>\n      <td>...</td>\n      <td>...</td>\n      <td>...</td>\n      <td>...</td>\n      <td>...</td>\n    </tr>\n    <tr>\n      <th>652</th>\n      <td>20</td>\n      <td>1991</td>\n      <td>I. CAPELLI</td>\n      <td>0.0</td>\n      <td>0.0</td>\n      <td>0.0</td>\n      <td>0.0</td>\n      <td>0.0</td>\n      <td>0.0</td>\n      <td>0.0</td>\n      <td>...</td>\n      <td>0.0</td>\n      <td>0.0</td>\n      <td>NaN</td>\n      <td>NaN</td>\n      <td>NaN</td>\n      <td>NaN</td>\n      <td>NaN</td>\n      <td>NaN</td>\n      <td>NaN</td>\n      <td>1.0</td>\n    </tr>\n    <tr>\n      <th>653</th>\n      <td>21</td>\n      <td>1991</td>\n      <td>E. BERNARD</td>\n      <td>0.0</td>\n      <td>0.0</td>\n      <td>0.0</td>\n      <td>0.0</td>\n      <td>0.0</td>\n      <td>1.0</td>\n      <td>0.0</td>\n      <td>...</td>\n      <td>0.0</td>\n      <td>0.0</td>\n      <td>0.0</td>\n      <td>0.0</td>\n      <td>NaN</td>\n      <td>NaN</td>\n      <td>NaN</td>\n      <td>NaN</td>\n      <td>NaN</td>\n      <td>1.0</td>\n    </tr>\n    <tr>\n      <th>654</th>\n      <td>22</td>\n      <td>1991</td>\n      <td>A. SUZUKI</td>\n      <td>1.0</td>\n      <td>0.0</td>\n      <td>0.0</td>\n      <td>0.0</td>\n      <td>0.0</td>\n      <td>0.0</td>\n      <td>0.0</td>\n      <td>...</td>\n      <td>0.0</td>\n      <td>0.0</td>\n      <td>0.0</td>\n      <td>0.0</td>\n      <td>NaN</td>\n      <td>NaN</td>\n      <td>NaN</td>\n      <td>NaN</td>\n      <td>NaN</td>\n      <td>1.0</td>\n    </tr>\n    <tr>\n      <th>655</th>\n      <td>23</td>\n      <td>1991</td>\n      <td>J. BAILEY</td>\n      <td>0.0</td>\n      <td>0.0</td>\n      <td>1.0</td>\n      <td>0.0</td>\n      <td>NaN</td>\n      <td>NaN</td>\n      <td>NaN</td>\n      <td>...</td>\n      <td>NaN</td>\n      <td>NaN</td>\n      <td>NaN</td>\n      <td>NaN</td>\n      <td>NaN</td>\n      <td>NaN</td>\n      <td>NaN</td>\n      <td>NaN</td>\n      <td>NaN</td>\n      <td>1.0</td>\n    </tr>\n    <tr>\n      <th>656</th>\n      <td>24</td>\n      <td>1991</td>\n      <td>G. MORBIDELLI</td>\n      <td>0.0</td>\n      <td>0.0</td>\n      <td>0.0</td>\n      <td>0.0</td>\n      <td>0.0</td>\n      <td>0.0</td>\n      <td>0.0</td>\n      <td>...</td>\n      <td>0.0</td>\n      <td>0.0</td>\n      <td>0.0</td>\n      <td>0.5</td>\n      <td>NaN</td>\n      <td>NaN</td>\n      <td>NaN</td>\n      <td>NaN</td>\n      <td>NaN</td>\n      <td>0.5</td>\n    </tr>\n  </tbody>\n</table>\n<p>657 rows × 25 columns</p>\n</div>"
     },
     "metadata": {},
     "execution_count": 61
    }
   ],
   "source": [
    "dfn"
   ]
  },
  {
   "cell_type": "code",
   "execution_count": 64,
   "metadata": {},
   "outputs": [],
   "source": [
    "dfn.iloc[::, 3:24] = dfn.iloc[::, 3:24].cumsum(axis=1, skipna=True)"
   ]
  },
  {
   "cell_type": "code",
   "execution_count": 65,
   "metadata": {},
   "outputs": [
    {
     "output_type": "execute_result",
     "data": {
      "text/plain": [
       "     Position  Year         Driver     1     2     3     4      5      6  \\\n",
       "0           1  2019    L. HAMILTON  18.0  43.0  68.0  86.0  112.0  137.0   \n",
       "1           2  2019      V. BOTTAS  26.0  44.0  62.0  87.0  105.0  120.0   \n",
       "2           3  2019  M. VERSTAPPEN  15.0  27.0  39.0  51.0   66.0   78.0   \n",
       "3           4  2019     C. LECLERC  10.0  26.0  36.0  47.0   57.0   57.0   \n",
       "4           5  2019      S. VETTEL  12.0  22.0  37.0  52.0   64.0   82.0   \n",
       "..        ...   ...            ...   ...   ...   ...   ...    ...    ...   \n",
       "652        20  1991     I. CAPELLI   0.0   0.0   0.0   0.0    0.0    0.0   \n",
       "653        21  1991     E. BERNARD   0.0   0.0   0.0   0.0    0.0    1.0   \n",
       "654        22  1991      A. SUZUKI   1.0   1.0   1.0   1.0    1.0    1.0   \n",
       "655        23  1991      J. BAILEY   0.0   0.0   1.0   1.0    NaN    NaN   \n",
       "656        24  1991  G. MORBIDELLI   0.0   0.0   0.0   0.0    0.0    0.0   \n",
       "\n",
       "         7  ...     13     14     15     16     17     18     19     20  \\\n",
       "0    162.0  ...  268.0  284.0  296.0  322.0  338.0  363.0  381.0  387.0   \n",
       "1    133.0  ...  203.0  221.0  231.0  249.0  274.0  289.0  314.0  314.0   \n",
       "2     88.0  ...  181.0  185.0  200.0  212.0  212.0  220.0  235.0  260.0   \n",
       "3     72.0  ...  157.0  182.0  200.0  215.0  223.0  236.0  249.0  249.0   \n",
       "4    100.0  ...  169.0  169.0  194.0  194.0  212.0  230.0  230.0  230.0   \n",
       "..     ...  ...    ...    ...    ...    ...    ...    ...    ...    ...   \n",
       "652    0.0  ...    1.0    1.0    NaN    NaN    NaN    NaN    NaN    NaN   \n",
       "653    1.0  ...    1.0    1.0    1.0    1.0    NaN    NaN    NaN    NaN   \n",
       "654    1.0  ...    1.0    1.0    1.0    1.0    NaN    NaN    NaN    NaN   \n",
       "655    NaN  ...    NaN    NaN    NaN    NaN    NaN    NaN    NaN    NaN   \n",
       "656    0.0  ...    0.0    0.0    0.0    0.5    NaN    NaN    NaN    NaN   \n",
       "\n",
       "        21  Points  \n",
       "0    413.0   413.0  \n",
       "1    326.0   326.0  \n",
       "2    278.0   278.0  \n",
       "3    264.0   264.0  \n",
       "4    240.0   240.0  \n",
       "..     ...     ...  \n",
       "652    NaN     1.0  \n",
       "653    NaN     1.0  \n",
       "654    NaN     1.0  \n",
       "655    NaN     1.0  \n",
       "656    NaN     0.5  \n",
       "\n",
       "[657 rows x 25 columns]"
      ],
      "text/html": "<div>\n<style scoped>\n    .dataframe tbody tr th:only-of-type {\n        vertical-align: middle;\n    }\n\n    .dataframe tbody tr th {\n        vertical-align: top;\n    }\n\n    .dataframe thead th {\n        text-align: right;\n    }\n</style>\n<table border=\"1\" class=\"dataframe\">\n  <thead>\n    <tr style=\"text-align: right;\">\n      <th></th>\n      <th>Position</th>\n      <th>Year</th>\n      <th>Driver</th>\n      <th>1</th>\n      <th>2</th>\n      <th>3</th>\n      <th>4</th>\n      <th>5</th>\n      <th>6</th>\n      <th>7</th>\n      <th>...</th>\n      <th>13</th>\n      <th>14</th>\n      <th>15</th>\n      <th>16</th>\n      <th>17</th>\n      <th>18</th>\n      <th>19</th>\n      <th>20</th>\n      <th>21</th>\n      <th>Points</th>\n    </tr>\n  </thead>\n  <tbody>\n    <tr>\n      <th>0</th>\n      <td>1</td>\n      <td>2019</td>\n      <td>L. HAMILTON</td>\n      <td>18.0</td>\n      <td>43.0</td>\n      <td>68.0</td>\n      <td>86.0</td>\n      <td>112.0</td>\n      <td>137.0</td>\n      <td>162.0</td>\n      <td>...</td>\n      <td>268.0</td>\n      <td>284.0</td>\n      <td>296.0</td>\n      <td>322.0</td>\n      <td>338.0</td>\n      <td>363.0</td>\n      <td>381.0</td>\n      <td>387.0</td>\n      <td>413.0</td>\n      <td>413.0</td>\n    </tr>\n    <tr>\n      <th>1</th>\n      <td>2</td>\n      <td>2019</td>\n      <td>V. BOTTAS</td>\n      <td>26.0</td>\n      <td>44.0</td>\n      <td>62.0</td>\n      <td>87.0</td>\n      <td>105.0</td>\n      <td>120.0</td>\n      <td>133.0</td>\n      <td>...</td>\n      <td>203.0</td>\n      <td>221.0</td>\n      <td>231.0</td>\n      <td>249.0</td>\n      <td>274.0</td>\n      <td>289.0</td>\n      <td>314.0</td>\n      <td>314.0</td>\n      <td>326.0</td>\n      <td>326.0</td>\n    </tr>\n    <tr>\n      <th>2</th>\n      <td>3</td>\n      <td>2019</td>\n      <td>M. VERSTAPPEN</td>\n      <td>15.0</td>\n      <td>27.0</td>\n      <td>39.0</td>\n      <td>51.0</td>\n      <td>66.0</td>\n      <td>78.0</td>\n      <td>88.0</td>\n      <td>...</td>\n      <td>181.0</td>\n      <td>185.0</td>\n      <td>200.0</td>\n      <td>212.0</td>\n      <td>212.0</td>\n      <td>220.0</td>\n      <td>235.0</td>\n      <td>260.0</td>\n      <td>278.0</td>\n      <td>278.0</td>\n    </tr>\n    <tr>\n      <th>3</th>\n      <td>4</td>\n      <td>2019</td>\n      <td>C. LECLERC</td>\n      <td>10.0</td>\n      <td>26.0</td>\n      <td>36.0</td>\n      <td>47.0</td>\n      <td>57.0</td>\n      <td>57.0</td>\n      <td>72.0</td>\n      <td>...</td>\n      <td>157.0</td>\n      <td>182.0</td>\n      <td>200.0</td>\n      <td>215.0</td>\n      <td>223.0</td>\n      <td>236.0</td>\n      <td>249.0</td>\n      <td>249.0</td>\n      <td>264.0</td>\n      <td>264.0</td>\n    </tr>\n    <tr>\n      <th>4</th>\n      <td>5</td>\n      <td>2019</td>\n      <td>S. VETTEL</td>\n      <td>12.0</td>\n      <td>22.0</td>\n      <td>37.0</td>\n      <td>52.0</td>\n      <td>64.0</td>\n      <td>82.0</td>\n      <td>100.0</td>\n      <td>...</td>\n      <td>169.0</td>\n      <td>169.0</td>\n      <td>194.0</td>\n      <td>194.0</td>\n      <td>212.0</td>\n      <td>230.0</td>\n      <td>230.0</td>\n      <td>230.0</td>\n      <td>240.0</td>\n      <td>240.0</td>\n    </tr>\n    <tr>\n      <th>...</th>\n      <td>...</td>\n      <td>...</td>\n      <td>...</td>\n      <td>...</td>\n      <td>...</td>\n      <td>...</td>\n      <td>...</td>\n      <td>...</td>\n      <td>...</td>\n      <td>...</td>\n      <td>...</td>\n      <td>...</td>\n      <td>...</td>\n      <td>...</td>\n      <td>...</td>\n      <td>...</td>\n      <td>...</td>\n      <td>...</td>\n      <td>...</td>\n      <td>...</td>\n      <td>...</td>\n    </tr>\n    <tr>\n      <th>652</th>\n      <td>20</td>\n      <td>1991</td>\n      <td>I. CAPELLI</td>\n      <td>0.0</td>\n      <td>0.0</td>\n      <td>0.0</td>\n      <td>0.0</td>\n      <td>0.0</td>\n      <td>0.0</td>\n      <td>0.0</td>\n      <td>...</td>\n      <td>1.0</td>\n      <td>1.0</td>\n      <td>NaN</td>\n      <td>NaN</td>\n      <td>NaN</td>\n      <td>NaN</td>\n      <td>NaN</td>\n      <td>NaN</td>\n      <td>NaN</td>\n      <td>1.0</td>\n    </tr>\n    <tr>\n      <th>653</th>\n      <td>21</td>\n      <td>1991</td>\n      <td>E. BERNARD</td>\n      <td>0.0</td>\n      <td>0.0</td>\n      <td>0.0</td>\n      <td>0.0</td>\n      <td>0.0</td>\n      <td>1.0</td>\n      <td>1.0</td>\n      <td>...</td>\n      <td>1.0</td>\n      <td>1.0</td>\n      <td>1.0</td>\n      <td>1.0</td>\n      <td>NaN</td>\n      <td>NaN</td>\n      <td>NaN</td>\n      <td>NaN</td>\n      <td>NaN</td>\n      <td>1.0</td>\n    </tr>\n    <tr>\n      <th>654</th>\n      <td>22</td>\n      <td>1991</td>\n      <td>A. SUZUKI</td>\n      <td>1.0</td>\n      <td>1.0</td>\n      <td>1.0</td>\n      <td>1.0</td>\n      <td>1.0</td>\n      <td>1.0</td>\n      <td>1.0</td>\n      <td>...</td>\n      <td>1.0</td>\n      <td>1.0</td>\n      <td>1.0</td>\n      <td>1.0</td>\n      <td>NaN</td>\n      <td>NaN</td>\n      <td>NaN</td>\n      <td>NaN</td>\n      <td>NaN</td>\n      <td>1.0</td>\n    </tr>\n    <tr>\n      <th>655</th>\n      <td>23</td>\n      <td>1991</td>\n      <td>J. BAILEY</td>\n      <td>0.0</td>\n      <td>0.0</td>\n      <td>1.0</td>\n      <td>1.0</td>\n      <td>NaN</td>\n      <td>NaN</td>\n      <td>NaN</td>\n      <td>...</td>\n      <td>NaN</td>\n      <td>NaN</td>\n      <td>NaN</td>\n      <td>NaN</td>\n      <td>NaN</td>\n      <td>NaN</td>\n      <td>NaN</td>\n      <td>NaN</td>\n      <td>NaN</td>\n      <td>1.0</td>\n    </tr>\n    <tr>\n      <th>656</th>\n      <td>24</td>\n      <td>1991</td>\n      <td>G. MORBIDELLI</td>\n      <td>0.0</td>\n      <td>0.0</td>\n      <td>0.0</td>\n      <td>0.0</td>\n      <td>0.0</td>\n      <td>0.0</td>\n      <td>0.0</td>\n      <td>...</td>\n      <td>0.0</td>\n      <td>0.0</td>\n      <td>0.0</td>\n      <td>0.5</td>\n      <td>NaN</td>\n      <td>NaN</td>\n      <td>NaN</td>\n      <td>NaN</td>\n      <td>NaN</td>\n      <td>0.5</td>\n    </tr>\n  </tbody>\n</table>\n<p>657 rows × 25 columns</p>\n</div>"
     },
     "metadata": {},
     "execution_count": 65
    }
   ],
   "source": [
    "dfn"
   ]
  },
  {
   "cell_type": "code",
   "execution_count": 66,
   "metadata": {},
   "outputs": [],
   "source": [
    "dfn.to_csv('Databases/driverChampCum.csv')"
   ]
  },
  {
   "cell_type": "code",
   "execution_count": 36,
   "metadata": {},
   "outputs": [
    {
     "output_type": "execute_result",
     "data": {
      "text/plain": [
       "Position      Int64\n",
       "Year          Int64\n",
       "Driver       string\n",
       "1           float64\n",
       "2           float64\n",
       "3           float64\n",
       "4           float64\n",
       "5           float64\n",
       "6           float64\n",
       "7           float64\n",
       "8           float64\n",
       "9           float64\n",
       "10          float64\n",
       "11          float64\n",
       "12          float64\n",
       "13          float64\n",
       "14          float64\n",
       "15          float64\n",
       "16          float64\n",
       "17          float64\n",
       "18          float64\n",
       "19          float64\n",
       "20          float64\n",
       "21          float64\n",
       "Points      float64\n",
       "dtype: object"
      ]
     },
     "metadata": {},
     "execution_count": 36
    }
   ],
   "source": [
    "dfn.dtypes"
   ]
  },
  {
   "cell_type": "code",
   "execution_count": null,
   "metadata": {},
   "outputs": [],
   "source": []
  }
 ]
}